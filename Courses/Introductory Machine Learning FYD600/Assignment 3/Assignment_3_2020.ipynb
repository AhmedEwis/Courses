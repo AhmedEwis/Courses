{
 "cells": [
  {
   "cell_type": "markdown",
   "metadata": {},
   "source": [
    "# Handout 3 (FYD600/GU): Reinforcement learning; one-step Q-learning\n",
    "### Authors: Mats Granath, Jonatan Wårdh, and Oleksandr Balabanov\n",
    "\n",
    "(2019, revised 2020)"
   ]
  },
  {
   "cell_type": "markdown",
   "metadata": {},
   "source": [
    "In this project we will look at reinforcement learning (RL), which is a machine learning method that deals with  problems where we are trying to find an optimal way of maneuvering in an environment that can give rewards or penalties depending on our actions. Examples are learning to play board games (https://www.youtube.com/watch?v=TnUYcTuZJpM) or computer games (https://youtu.be/cUTMhmVh1qs) or having a robot learn to walk by trial and error (https://www.youtube.com/watch?v=gn4nRCC9TwQ).   \n",
    "\n",
    "There is a well developed body of theory around these types of problems (see Sutton and Barto book), but in the spirit of this course we will concentrate on a small part of the topic and dig into that with a practical excercise. In particular we will focus on the RL method known as \"one-step Q-learning\", as it is conceptually quite simple (but powerful) and often used in practice. \n",
    "\n",
    "This handout (3) is quite seperate from the supervised learning using artificial neural networks that we studied in handout 1 and 2. But in the last handout (4) we will make the connection by using, so called, deep Q-learning, where an ANN is used. (More on that later.) "
   ]
  },
  {
   "cell_type": "markdown",
   "metadata": {},
   "source": [
    "### Basic definitions and theory. \n",
    "\n",
    "We consider a type of game where an \"agent\" takes at each time step an \"action\" $a$, for example taking a step in some direction or placing a stone on a Go board. Before taking the action, the system or environment that the agent lives in is in some \"state\" $s$. (I.e. for a game of Go, the state is the configuration of stones on the board.) After the action the environment responds in some way (the agents stone is placed and the opponent places a stone) resulting in a new state of the system $s'$. In the general case the transition $s\\rightarrow s'$ would result in some reward $r$ given to the agent (negative or positive or zero). (For the Go game the reward maybe only given at the end, positive if the game is won, negative if it's lost. This is a problem with so called sparse-reward, which is particularly difficult.) \n",
    "\n",
    "The objective of the game is to get to the end of the game with the the highest \"return\", $R$ where return is the cumulative reward. When calculating the return it is customary (and important for many problems) to use a discounting factor $0<\\gamma\\leq 1$, that implies that reward further on is less valuable than immediate reward. With this, the return at time $t$ is defined as $R_t=\\sum_{t'=t}^\\infty\\gamma^{t'-t}r_{t'}$, where there is an implicit assumption that we are following some particular sequence of actions with the corresponding rewards. \n",
    "\n",
    "To decide what action $a$ to take in a given state $s$ the agent uses a policy $\\pi(s,a)$, which could correspond to a unique choice or a probability distribution. We are interested in finding the \"optimal\" policy $\\pi_{opt}$, that in any state $s$ will give the maximum return when following it to the end.\n",
    "\n",
    "A useful object to quantify the whole proceedure is the \"action-value\" function $Q(s,a)$. It is defined as the return given by taking $a$ in $s$ and subsequently following the optimal policy, which can be written in an iterative form $Q(s,a)=r+\\gamma\\max_{a'}Q(s',a')$. Thus, correspondingly, the optimal policy will in fact be the one that in each step uses the action that maximizes $Q$, i.e. to find  $\\pi_{opt}$ we should calculate $Q$.\n",
    "\n",
    "To calculate $Q$ we need to explore the set of states, taking different actions, and collect rewards. There are different ways of doing this, but a standard way is to do \"one-step Q-learning\" using an $\\epsilon$-greedy policy. It goes as follows:\n",
    "\n",
    "$\\bullet$ in state $s$ use your current estimate of $Q(s,a)$ to decide on a best action $a$ (maximizing $Q$). Use this action with probability $1-\\epsilon$, but with probability $\\epsilon$ take a random action. $0\\leq\\epsilon\\leq 1$ is a parameter that quantifies a trade off between exploiting the current best estimate of the optimal policy and to explore the full space of possible rewards. (For problems with very big state-action space it is not possible to explore the full space, thus necessary to use a small $\\epsilon$, while for small worlds one can even use $\\epsilon=1$.) \n",
    "\n",
    "$\\bullet$ feed action $a$ to the environmment that will respond by moving to state $s'$ and giving reward $r$. \n",
    "\n",
    "$\\bullet$ this last move provides an estimate \n",
    "$r+\\gamma\\max_{a'}Q(s',a')$ for $Q(s,a)$. (Note that this is not necessarily the correct value for $Q(s,a)$ as the next time you take action $a$ in state $s$ you may get a different reward, $Q(s',a')$ may have changed, and you may even end up in a different state $s'$ if there is some stochastic ingredient in moving between states.) Increment your value (estimate) by mixing in some part ($\\alpha<1$) of the most recent estimate \n",
    "$Q(s,a)\\leftarrow(1-\\alpha)Q(s,a)+\\alpha(r+\\gamma\\max_{a'}Q(s',a'))$. (This is what \"one-step\" implies; we could have explored further, weighing the rewards of several steps into the upgrade of $Q$.)\n",
    "\n",
    "$\\bullet$ keep playing,from state $s'$ take another $\\epsilon$-greedy action $a'$ to state $s''$ and update $Q(s',a')$. (Restart the game if you reach a terminal state.) Unless you get stuck in some part of the state-action space you will converge to the correct $Q$ function and the corresponding optimal policy after many games. "
   ]
  },
  {
   "cell_type": "markdown",
   "metadata": {},
   "source": [
    "# Assignment"
   ]
  },
  {
   "cell_type": "markdown",
   "metadata": {},
   "source": [
    "Construct an RL agent using one-step Q-learning to find the optimal path from start to finish in a \"grid world\". </b> The grid world is a rectangular board where the agent can move in the cardinal directions. The board is surrounded by sheer cliffs giving death and a large negative reward. There are also \"fires\" on the board, that are not fatal but gives a large negative reward. In addition, to make things more intersting, there is a treacherous \"wind\" that can make you go in a completely unintended direction. Every step gives a negative reward; you want to get to goal in as few steps as possible. Reaching goal gives the only positive reward available on the board. \n",
    "\n",
    "Some basic functions and definitions are provided. But you need to set up the training and test it by tuning parameters."
   ]
  },
  {
   "cell_type": "markdown",
   "metadata": {},
   "source": [
    "Here we will give you some help with constructing the code. We will provide you with a template, but you do not have to use it. You should find the most suitable parameters yourself. However, use <code>wind=0.1</code>, the probability of taking a random step, unless otherwise specified."
   ]
  },
  {
   "cell_type": "code",
   "execution_count": 1,
   "metadata": {},
   "outputs": [],
   "source": [
    "import numpy as np\n",
    "import matplotlib  \n",
    "import matplotlib.pyplot as plt \n",
    "from mpl_toolkits import mplot3d"
   ]
  },
  {
   "cell_type": "code",
   "execution_count": 2,
   "metadata": {},
   "outputs": [],
   "source": [
    "# Define parameters (you should find suitable values)\n",
    "alpha= 0.5 #learning rate\n",
    "gamma= 0.3 #discounting rate\n",
    "epsilon= 0.3 #for the epsilon-greedy policy\n",
    "wind=0.0 # chance that action results in random move"
   ]
  },
  {
   "cell_type": "code",
   "execution_count": 3,
   "metadata": {},
   "outputs": [],
   "source": [
    "# Setup grid \n",
    "startpos=np.array([0,19])\n",
    "goalpos=np.array([10,0])\n",
    "size_grid_x=30\n",
    "size_grid_y=50\n",
    "\n",
    "# Setup Q matrix (size,size,4) matrix for the 4 actions up,down,left,right=0,1,2,3\n",
    "Q=np.zeros((size_grid_x,size_grid_y,4))  "
   ]
  },
  {
   "cell_type": "markdown",
   "metadata": {},
   "source": [
    "The grid will consist of squares of \"fire\" and a \"goal\". The edge of the grid will be considered a \"cliff\". The game ends if you end up at the goal, which will yield a reward of 100. The game also ends if you fall over the cliff resulting in a -100 reward. You can walk through fire, but it yields a negative reward of -50 for each step. Every other step yields a -1 reward, meaning that we want to find the shortest path to the goal.\n",
    "\n",
    "It is convenient to use python's dictionaries to associate the different squares of the grid with the values specified above. A dictionary is a list which associate an output to a label that you specify. This should be clear from the following definitions"
   ]
  },
  {
   "cell_type": "code",
   "execution_count": 4,
   "metadata": {},
   "outputs": [],
   "source": [
    "# the reward associated with each obstacle\n",
    "reward_list = {'fire': -50 , 'cliff': -100, 'goal': 100 , 'start' : -1 , '-' : -1 }\n",
    "# the state of the game: 1 meaning the game has ended \n",
    "state_list = {'fire': -1 , 'cliff': 1, 'goal': 1 , 'start' : -1 , '-' : -1 }"
   ]
  },
  {
   "cell_type": "markdown",
   "metadata": {},
   "source": [
    "from which you can extract the values according to (note the [  ] brackets) "
   ]
  },
  {
   "cell_type": "code",
   "execution_count": 5,
   "metadata": {},
   "outputs": [
    {
     "data": {
      "text/plain": [
       "-50"
      ]
     },
     "execution_count": 5,
     "metadata": {},
     "output_type": "execute_result"
    }
   ],
   "source": [
    "reward_list['fire']"
   ]
  },
  {
   "cell_type": "markdown",
   "metadata": {},
   "source": [
    "Next we define a function that constructs the grid (it will be a nested list, not a numpy array)"
   ]
  },
  {
   "cell_type": "code",
   "execution_count": 6,
   "metadata": {},
   "outputs": [],
   "source": [
    "# Make grid\n",
    "def make_grid():\n",
    "\n",
    "    # Add padding, add an extra row, accessible trough index -1\n",
    "    grid = [['-' for y in range(size_grid_y+1)] for x in range(size_grid_x+1)]\n",
    "    \n",
    "    for x in range(size_grid_x+1):\n",
    "        for y in range(size_grid_y+1):\n",
    "            #goal\n",
    "            if x==goalpos[0]  and y==goalpos[1] :\n",
    "                # store object\n",
    "                grid[x][y] = 'goal'\n",
    "\n",
    "            #cliff\n",
    "            if x==size_grid_x  or y==size_grid_y :\n",
    "                grid[x][y] = 'cliff'\n",
    "                \n",
    "            #fires\n",
    "            elif (3<= x <=7) and (3<= y <= 7):\n",
    "                grid[x][y] = 'fire'\n",
    "    \n",
    "            elif x==startpos[0]  and y==startpos[1] :\n",
    "                grid[x][y] = 'start'\n",
    "\n",
    "    return grid\n"
   ]
  },
  {
   "cell_type": "markdown",
   "metadata": {},
   "source": [
    "Let us make a function that can plot this grid in a nice way "
   ]
  },
  {
   "cell_type": "code",
   "execution_count": 7,
   "metadata": {},
   "outputs": [],
   "source": [
    "# Plot grid, pass None if you do not want to print a path \n",
    "def dispGrid(grid):\n",
    "    grid_RGB = np.ones((size_grid_x,size_grid_y,3))*0.7 # \n",
    "    \n",
    "    for x in range(size_grid_x):\n",
    "        for y in range(size_grid_y):\n",
    "            \n",
    "            if grid[x][y]=='goal':\n",
    "                grid_RGB[x,y,:] = np.array([245/255,237/255,48/255]) # Yellow\n",
    "                \n",
    "            if grid[x][y]=='fire':\n",
    "                grid_RGB[x,y,:] = np.array([203/255,32/255,40/255]) # Red '-' #pit    \n",
    "   \n",
    "            if grid[x][y]=='start':\n",
    "                grid_RGB[x,y,:] = np.array([0/255,254/255,0/255]) # Red '-' #pit    \n",
    "   \n",
    "   \n",
    "    \n",
    "    return grid_RGB"
   ]
  },
  {
   "cell_type": "code",
   "execution_count": 8,
   "metadata": {
    "scrolled": true
   },
   "outputs": [
    {
     "data": {
      "image/png": "[encoded data removed]",
      "text/plain": [
       "<Figure size 800x800 with 1 Axes>"
      ]
     },
     "metadata": {},
     "output_type": "display_data"
    }
   ],
   "source": [
    "# make the grid\n",
    "grid = make_grid()\n",
    "# convert it to colors\n",
    "plot_grid =dispGrid(grid)\n",
    "\n",
    "fig=plt.figure(figsize=(10, 10), dpi= 80, facecolor='w', edgecolor='k')\n",
    "# We have to invert the x and y axis , go over to numpy array instead\n",
    "plt.imshow(np.swapaxes(np.array(plot_grid),0,1))\n",
    "#plt.axis('on')\n",
    "plt.gca().invert_yaxis()\n",
    "plt.xticks(np.arange(0, size_grid_x, dtype=np.int))\n",
    "plt.yticks(np.arange(0, size_grid_y, dtype=np.int))\n",
    "plt.show()"
   ]
  },
  {
   "cell_type": "markdown",
   "metadata": {},
   "source": [
    "It helps to write a function <code>action_fcn(q_in,epsilon,wind)</code> which takes as input \n",
    "<code>q_in , epsilon, wind</code> and gives <code> move, action</code> as output.\n",
    "\n",
    "The variable <code>q_in</code> is the value for the four different actions 0,1,2,3 (corresponding to up,down,left,right) at a particular position of the $Q$-matrix, i.e. it is an array with four entries. The output <code>action</code> should be the action taken according to the epsilon greedy procedure, i.e. 0,1,2 or 3. However, we will also include wind which means that the actual move taken by the player has a probability <code>wind</code> to be just a random move in any direction. Let <code>move</code> be the actual move preformed when wind is taken into account. \n"
   ]
  },
  {
   "cell_type": "code",
   "execution_count": 9,
   "metadata": {},
   "outputs": [],
   "source": [
    "import random\n",
    "\n",
    "def action_fcn(q_in,epsilon,wind):\n",
    "    \n",
    "    #Find action accordning to epsilon greedy\n",
    "    if random.random() < epsilon:\n",
    "        action = random.randint(0,3)\n",
    "    \n",
    "    else:\n",
    "        action = np.argmax(q_in)\n",
    "    \n",
    "    #With \"wind\" there is a chance that the action gives a different reaction, i.e. move.\n",
    "    #Construct move with a probability (set by the parameter wind) to be just a step \n",
    "    if random.random() < wind:\n",
    "        move = random.randint(0,3)\n",
    "    \n",
    "    else:\n",
    "        move = action\n",
    "        \n",
    "    #Outout\n",
    "    return move, action"
   ]
  },
  {
   "cell_type": "markdown",
   "metadata": {},
   "source": [
    "Now it is time to construct the main loop of the program. Loop through a big number of games, try 100000. Run each game until you go outside the grid, the 'cliff', or if you reach the goal. "
   ]
  },
  {
   "cell_type": "code",
   "execution_count": 10,
   "metadata": {},
   "outputs": [
    {
     "name": "stdout",
     "output_type": "stream",
     "text": [
      "[0. 0. 0. 0.]\n",
      "[0. 0. 0. 0.]\n",
      "[0. 0. 0. 0.]\n",
      "[-0.5  0.   0.   0. ]\n",
      "[-0.5  0.   0.   0. ]\n",
      "[-0.5  0.   0.   0. ]\n",
      "[0. 0. 0. 0.]\n",
      "[-0.5 -0.5  0.   0. ]\n",
      "[0. 0. 0. 0.]\n",
      "[-0.5  -0.75  0.    0.  ]\n",
      "[0. 0. 0. 0.]\n",
      "[0. 0. 0. 0.]\n",
      "[0. 0. 0. 0.]\n",
      "[0. 0. 0. 0.]\n",
      "[0. 0. 0. 0.]\n",
      "[0. 0. 0. 0.]\n",
      "[0. 0. 0. 0.]\n",
      "[0. 0. 0. 0.]\n",
      "[0. 0. 0. 0.]\n",
      "[-0.5  0.   0.   0. ]\n",
      "[-0.5  0.   0.   0. ]\n",
      "[-0.5  0.   0.   0. ]\n",
      "[-0.5  0.   0.   0. ]\n",
      "[-0.5  0.   0.   0. ]\n",
      "[0. 0. 0. 0.]\n",
      "[-0.5 -0.5  0.   0. ]\n",
      "[ 0.   0.   0.  -0.5]\n",
      "[0. 0. 0. 0.]\n",
      "[0. 0. 0. 0.]\n",
      "[0. 0. 0. 0.]\n",
      "[0. 0. 0. 0.]\n",
      "[0. 0. 0. 0.]\n",
      "[0. 0. 0. 0.]\n",
      "[0. 0. 0. 0.]\n",
      "[0. 0. 0. 0.]\n",
      "[0. 0. 0. 0.]\n",
      "[ 0.  -0.5  0.   0. ]\n",
      "[0. 0. 0. 0.]\n",
      "[0. 0. 0. 0.]\n",
      "[-0.5  -0.75  0.   -0.5 ]\n",
      "[-0.5  -0.75  0.   -0.5 ]\n",
      "[-0.5 -0.5  0.   0. ]\n",
      "[-0.75 -0.75  0.   -0.5 ]\n",
      "[-0.75 -0.75  0.   -0.5 ]\n",
      "[-0.5  0.   0.   0. ]\n",
      "[0. 0. 0. 0.]\n",
      "[0. 0. 0. 0.]\n",
      "[0. 0. 0. 0.]\n",
      "[-0.5  0.   0.   0. ]\n",
      "[-0.5  0.   0.   0. ]\n",
      "[-0.5 -0.5  0.   0. ]\n",
      "[-0.75  -0.875  0.    -0.5  ]\n",
      "[-0.5 -0.5 -0.5  0. ]\n",
      "[0. 0. 0. 0.]\n",
      "[-0.5  0.   0.   0. ]\n",
      "[-0.5  0.   0.   0. ]\n",
      "[0. 0. 0. 0.]\n",
      "[-0.5 -0.5  0.   0. ]\n",
      "[-0.5 -0.5 -0.5 -0.5]\n",
      "[-0.5  0.   0.   0. ]\n",
      "[-0.75 -0.5  -0.5  -0.5 ]\n",
      "[-0.5   -0.575  0.     0.   ]\n",
      "[-0.875 -0.5   -0.5   -0.5  ]\n",
      "[-0.75  0.    0.    0.  ]\n",
      "[-0.5  0.   0.   0. ]\n",
      "[0. 0. 0. 0.]\n",
      "[-0.5 -0.5  0.   0. ]\n",
      "[ 0.   0.   0.  -0.5]\n",
      "[-0.5 -0.5 -0.5  0. ]\n",
      "[0. 0. 0. 0.]\n",
      "[-0.5  0.   0.   0. ]\n",
      "[-0.5  0.   0.   0. ]\n",
      "[-0.5 -0.5  0.   0. ]\n",
      "[-0.75 -0.5   0.    0.  ]\n",
      "[-0.5 -0.5  0.   0. ]\n",
      "[-0.75  -0.875  0.    -0.75 ]\n",
      "[-0.875 -0.75  -0.5   -0.5  ]\n",
      "[-0.5   -0.5   -0.575  0.   ]\n",
      "[0. 0. 0. 0.]\n",
      "[0. 0. 0. 0.]\n",
      "[ 0.   0.   0.  -0.5]\n",
      "[0. 0. 0. 0.]\n",
      "[-0.5 -0.5  0.   0. ]\n",
      "[-0.5    -0.8625  0.      0.    ]\n",
      "[-0.5 -0.5  0.   0. ]\n",
      "[-0.75  -0.875  0.    -0.95 ]\n",
      "[-0.75  -0.875  0.    -0.95 ]\n"
     ]
    }
   ],
   "source": [
    "up,down,left,right=0,1,2,3\n",
    "tot_goals = 0\n",
    "# loop over games\n",
    "for games in range(10): #100000\n",
    "    # Initilize the player at the start position and store the current position in position\n",
    "    position = startpos.copy()\n",
    "    state = state_list[str(grid[position[0]][position[1]])]\n",
    "    \n",
    "    # loop over steps taken by the player\n",
    "    while state == -1: #the state of the game is -1, terminate if 1 (see state_list above)\n",
    "        # Find out what move to make using\n",
    "        old_location = position.copy()\n",
    "        print(Q[position[0]][position[1]])\n",
    "        move, action = action_fcn(Q[position[0]][position[1]], epsilon, wind)\n",
    "        \n",
    "        # update location\n",
    "        if move == up: position[1] += 1\n",
    "        elif move == down: position[1] -= 1\n",
    "        elif move == left: position[0] -= 1\n",
    "        elif move == right: position[0] += 1\n",
    "        \n",
    "        # Update Q. Remember that it is the variable action that determines what entry of the Q-matris that should be \n",
    "        # updated, not move\n",
    "        state = state_list[str(grid[position[0]][position[1]])]\n",
    "        \n",
    "        if state == -1:\n",
    "            r = reward_list[str(grid[position[0]][position[1]])]\n",
    "            Q[old_location[0], old_location[1], action] = (1 - alpha) * Q[old_location[0], old_location[1], action] + alpha * (r + gamma * max(Q[position[0], position[1], :]))\n",
    "\n",
    "        if str(grid[position[0]][position[1]]) == 'goal':\n",
    "            print('Awesome, game: ' + str(games))\n",
    "            tot_goals += 1\n",
    "            print('Total: ' + str(tot_goals))\n",
    "        \n",
    "        "
   ]
  },
  {
   "cell_type": "markdown",
   "metadata": {},
   "source": [
    "This is the basic structure of the Q-learning. Now you should have constructed a $Q$ matrix which stores the value of making any of the four different actions for each state.  "
   ]
  },
  {
   "cell_type": "markdown",
   "metadata": {},
   "source": [
    "## Questions:"
   ]
  },
  {
   "cell_type": "markdown",
   "metadata": {},
   "source": [
    "Answer the following questions:\n",
    "\n",
    "$\\bullet$ Construct the Q-learning algorithm according to the above. Find suitable values for <code>alpha, gamma, epsilon</code>. Observations?\n",
    "\n",
    "$\\bullet$ There is a fundamental difference between the two random components $\\epsilon$ and <code>wind</code>. What?\n",
    "\n",
    "$\\bullet$ Experiment and disuss the difference bwetween using an $\\epsilon$ close to 0 or close to 1. \n",
    "\n",
    "$\\bullet$ The $Q$-matrix contains all information about the optimal way to play this game. Find the optimal path to move according the $Q$-matrix, i.e. in every step make the move with highest value. Plot the optimal path on the grid by including it in the <code>dispGrid(grid)</code> function. What happens if you set <code>wind=0</code> during training and why? \n",
    "\n",
    "$\\bullet$ Plot the state-value function $V(s)$. The state-value function is the biggest Q-value of actions for each state i.e. $V(s) = \\text{max}_a Q(s,a)$. To plot this function, use <code>plt.imshow</code> in the Matplotlib package. What does this object signify? Compare it to the plot given above. Why is the \"fire\" smaller in this picture? \n",
    "\n",
    "\n",
    "$\\bullet$ Run the subsequent routines to diagnose the outcome, and discuss the results. \n"
   ]
  },
  {
   "cell_type": "markdown",
   "metadata": {},
   "source": [
    "## Diagnosis and plot routines"
   ]
  },
  {
   "cell_type": "code",
   "execution_count": 11,
   "metadata": {},
   "outputs": [
    {
     "data": {
      "text/plain": [
       "<Figure size 432x288 with 0 Axes>"
      ]
     },
     "metadata": {},
     "output_type": "display_data"
    },
    {
     "data": {
      "image/png": "[encoded data removed]",
      "text/plain": [
       "<Figure size 800x800 with 2 Axes>"
      ]
     },
     "metadata": {},
     "output_type": "display_data"
    }
   ],
   "source": [
    "#What does it show?\n",
    "z=Q.max(axis=2)\n",
    "#z=z.T\n",
    "#z=np.flip(z,axis=0)\n",
    "#z=np.flip(z,axis=1)\n",
    "plt.figure()\n",
    "fig=plt.figure(figsize=(10, 10), dpi= 80, facecolor='w', edgecolor='k')\n",
    "plt.imshow(np.swapaxes(z,0,1))\n",
    "plt.colorbar()\n",
    "#plt.grid(False)\n",
    "plt.gca().invert_yaxis()\n",
    "plt.xticks(np.arange(0, size_grid_x, dtype=np.int))\n",
    "plt.yticks(np.arange(0, size_grid_y, dtype=np.int))\n",
    "plt.show()"
   ]
  },
  {
   "cell_type": "code",
   "execution_count": 12,
   "metadata": {},
   "outputs": [
    {
     "name": "stdout",
     "output_type": "stream",
     "text": [
      "[[ 0 19]\n",
      " [ 2 21]\n",
      " [ 5 24]\n",
      " [ 5 24]\n",
      " [ 5 24]\n",
      " [ 5 24]\n",
      " [ 5 24]\n",
      " [ 5 24]\n",
      " [ 5 24]\n",
      " [ 5 24]\n",
      " [ 5 24]\n",
      " [ 5 24]\n",
      " [ 5 24]\n",
      " [ 5 24]\n",
      " [ 5 24]\n",
      " [ 5 24]\n",
      " [ 5 24]\n",
      " [ 5 24]\n",
      " [ 5 24]\n",
      " [ 5 24]\n",
      " [ 5 24]\n",
      " [ 5 24]\n",
      " [ 5 24]\n",
      " [ 5 24]\n",
      " [ 5 24]\n",
      " [ 5 24]\n",
      " [ 5 24]\n",
      " [ 5 24]\n",
      " [ 5 24]\n",
      " [ 5 24]\n",
      " [ 5 24]\n",
      " [ 5 24]\n",
      " [ 5 24]\n",
      " [ 5 24]\n",
      " [ 5 24]\n",
      " [ 5 24]\n",
      " [ 5 24]\n",
      " [ 5 24]\n",
      " [ 5 24]\n",
      " [ 5 24]\n",
      " [ 5 24]\n",
      " [ 5 24]\n",
      " [ 5 24]\n",
      " [ 5 24]\n",
      " [ 5 24]\n",
      " [ 5 24]\n",
      " [ 5 24]\n",
      " [ 5 24]\n",
      " [ 5 24]\n",
      " [ 5 24]\n",
      " [ 5 24]\n",
      " [ 5 24]\n",
      " [ 5 24]\n",
      " [ 5 24]\n",
      " [ 5 24]\n",
      " [ 5 24]\n",
      " [ 5 24]\n",
      " [ 5 24]\n",
      " [ 5 24]\n",
      " [ 5 24]\n",
      " [ 5 24]\n",
      " [ 5 24]\n",
      " [ 5 24]\n",
      " [ 5 24]\n",
      " [ 5 24]\n",
      " [ 5 24]\n",
      " [ 5 24]\n",
      " [ 5 24]\n",
      " [ 5 24]\n",
      " [ 5 24]\n",
      " [ 5 24]\n",
      " [ 5 24]\n",
      " [ 5 24]\n",
      " [ 5 24]\n",
      " [ 5 24]\n",
      " [ 5 24]\n",
      " [ 5 24]\n",
      " [ 5 24]\n",
      " [ 5 24]\n",
      " [ 5 24]\n",
      " [ 5 24]\n",
      " [ 5 24]\n",
      " [ 5 24]\n",
      " [ 5 24]\n",
      " [ 5 24]\n",
      " [ 5 24]\n",
      " [ 5 24]\n",
      " [ 5 24]\n",
      " [ 5 24]\n",
      " [ 5 24]\n",
      " [ 5 24]\n",
      " [ 5 24]\n",
      " [ 5 24]\n",
      " [ 5 24]\n",
      " [ 5 24]\n",
      " [ 5 24]\n",
      " [ 5 24]\n",
      " [ 5 24]\n",
      " [ 5 24]\n",
      " [ 5 24]\n",
      " [ 5 24]\n",
      " [ 5 24]] 101\n"
     ]
    }
   ],
   "source": [
    "#a path\n",
    "location=startpos\n",
    "path=np.array([startpos])\n",
    "reaction=0\n",
    "step_count=0;\n",
    "while reaction !=1:\n",
    "    q_state=Q[location[0],location[1],:]\n",
    "    step_count+=1\n",
    "    move, action = action_fcn(q_state,0.0,0.0)  #take optimal move\n",
    "    location_new=location+move\n",
    "\n",
    "    obstacle = grid[location_new[0]][location_new[1]]       \n",
    "    reaction = state_list[obstacle]\n",
    "    \n",
    "    location=location_new\n",
    "    \n",
    "    path=np.append(path,[location],axis=0)\n",
    "    if step_count>100:\n",
    "        break\n",
    "print(path,step_count)\n",
    "\n"
   ]
  },
  {
   "cell_type": "code",
   "execution_count": 13,
   "metadata": {},
   "outputs": [
    {
     "ename": "TypeError",
     "evalue": "dispGrid() takes 1 positional argument but 2 were given",
     "output_type": "error",
     "traceback": [
      "\u001b[1;31m---------------------------------------------------------------------------\u001b[0m",
      "\u001b[1;31mTypeError\u001b[0m                                 Traceback (most recent call last)",
      "\u001b[1;32m<ipython-input-13-fa54a60e7403>\u001b[0m in \u001b[0;36m<module>\u001b[1;34m()\u001b[0m\n\u001b[0;32m      1\u001b[0m \u001b[1;31m#plot above path\u001b[0m\u001b[1;33m\u001b[0m\u001b[1;33m\u001b[0m\u001b[1;33m\u001b[0m\u001b[0m\n\u001b[0;32m      2\u001b[0m \u001b[0mgrid\u001b[0m \u001b[1;33m=\u001b[0m \u001b[0mmake_grid\u001b[0m\u001b[1;33m(\u001b[0m\u001b[1;33m)\u001b[0m\u001b[1;33m\u001b[0m\u001b[1;33m\u001b[0m\u001b[0m\n\u001b[1;32m----> 3\u001b[1;33m \u001b[0mplot_grid\u001b[0m \u001b[1;33m=\u001b[0m\u001b[0mdispGrid\u001b[0m\u001b[1;33m(\u001b[0m\u001b[0mgrid\u001b[0m\u001b[1;33m,\u001b[0m\u001b[0mpath\u001b[0m\u001b[1;33m)\u001b[0m\u001b[1;33m\u001b[0m\u001b[1;33m\u001b[0m\u001b[0m\n\u001b[0m\u001b[0;32m      4\u001b[0m \u001b[1;33m\u001b[0m\u001b[0m\n\u001b[0;32m      5\u001b[0m \u001b[0mfig\u001b[0m\u001b[1;33m=\u001b[0m\u001b[0mplt\u001b[0m\u001b[1;33m.\u001b[0m\u001b[0mfigure\u001b[0m\u001b[1;33m(\u001b[0m\u001b[0mfigsize\u001b[0m\u001b[1;33m=\u001b[0m\u001b[1;33m(\u001b[0m\u001b[1;36m10\u001b[0m\u001b[1;33m,\u001b[0m \u001b[1;36m10\u001b[0m\u001b[1;33m)\u001b[0m\u001b[1;33m,\u001b[0m \u001b[0mdpi\u001b[0m\u001b[1;33m=\u001b[0m \u001b[1;36m80\u001b[0m\u001b[1;33m,\u001b[0m \u001b[0mfacecolor\u001b[0m\u001b[1;33m=\u001b[0m\u001b[1;34m'w'\u001b[0m\u001b[1;33m,\u001b[0m \u001b[0medgecolor\u001b[0m\u001b[1;33m=\u001b[0m\u001b[1;34m'k'\u001b[0m\u001b[1;33m)\u001b[0m\u001b[1;33m\u001b[0m\u001b[1;33m\u001b[0m\u001b[0m\n",
      "\u001b[1;31mTypeError\u001b[0m: dispGrid() takes 1 positional argument but 2 were given"
     ]
    }
   ],
   "source": [
    "#plot above path\n",
    "grid = make_grid()\n",
    "plot_grid =dispGrid(grid,path)\n",
    "\n",
    "fig=plt.figure(figsize=(10, 10), dpi= 80, facecolor='w', edgecolor='k')\n",
    "# We have to invert the x and y axis , go over to numpy array instead\n",
    "plt.imshow(np.swapaxes(np.array(plot_grid),0,1))\n",
    "#plt.axis('on')\n",
    "plt.gca().invert_yaxis()\n",
    "plt.xticks(np.arange(0, size_grid_x, dtype=np.int))\n",
    "plt.yticks(np.arange(0, size_grid_y, dtype=np.int))\n",
    "plt.show()"
   ]
  }
 ],
 "metadata": {
  "kernelspec": {
   "display_name": "Python 3",
   "language": "python",
   "name": "python3"
  },
  "language_info": {
   "codemirror_mode": {
    "name": "ipython",
    "version": 3
   },
   "file_extension": ".py",
   "mimetype": "text/x-python",
   "name": "python",
   "nbconvert_exporter": "python",
   "pygments_lexer": "ipython3",
   "version": "3.7.3"
  }
 },
 "nbformat": 4,
 "nbformat_minor": 2
}
